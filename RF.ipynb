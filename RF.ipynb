{
 "cells": [
  {
   "cell_type": "code",
   "execution_count": 5,
   "id": "32ab93ac",
   "metadata": {},
   "outputs": [],
   "source": [
    "import tensorflow as tf\n",
    "import matplotlib as mpl\n",
    "import matplotlib.pyplot as plt\n",
    "import numpy as np\n",
    "import os\n",
    "import pandas as pd\n",
    "import seaborn as sns\n",
    "from sklearn.model_selection import train_test_split\n",
    "from sklearn.preprocessing import MinMaxScaler\n",
    "from sklearn import metrics\n",
    "from sklearn.metrics import r2_score\n",
    "from tensorflow.keras import utils,losses,layers,Sequential\n",
    "from tensorflow.keras.callbacks import ModelCheckpoint,TensorBoard,EarlyStopping\n",
    "from tensorflow.keras.layers import Input, LSTM, Dense, Bidirectional, Dot, Softmax, Concatenate,Conv1D,Dropout,MaxPooling1D, Flatten\n",
    "from tensorflow.keras.models import Model\n",
    "\n",
    "data_path=\"winter.csv\"\n",
    "dataset=pd.read_csv(data_path,parse_dates=['Date'],index_col=['Date'])\n",
    "\n",
    "future=['NH3']\n",
    "\n",
    "for col in future:\n",
    "    scaler=MinMaxScaler()\n",
    "    if(col not in ['sin(h)','cos(h)']):\n",
    "    \tdataset[col]=scaler.fit_transform(dataset[col].values.reshape(-1,1))\n",
    "dataset.head()\n",
    "\n",
    "def multivariate_data(x,y, start_index, end_index, history_size,\n",
    "                      target_size, step, single_step):\n",
    "    data = []\n",
    "    labels = []\n",
    "\n",
    "    start_index = start_index + history_size\n",
    "    \n",
    "    if end_index is None:\n",
    "        end_index = len(dataset) - target_size\n",
    "\n",
    "    for i in range(start_index, end_index):\n",
    "        indices = range(i-history_size, i, step)\n",
    "        mid_data=x.iloc[indices]\n",
    "        data.append(mid_data)\n",
    "\n",
    "        if single_step:\n",
    "            mid_data=y.iloc[i+target_size]\n",
    "            labels.append(mid_data)\n",
    "        else:\n",
    "            labels.append(y.iloc[i:i+target_size])\n",
    "\n",
    "    return np.array(data), np.array(labels)\n",
    "x=dataset[future]\n",
    "y=dataset['NH3']\n",
    "x_train,x_test,y_train,y_test=train_test_split(x,y,test_size=0.3,shuffle=False,random_state=25)\n",
    "train_dataset,train_labels=multivariate_data(x_train,y_train,0,2800,3,1,1,False)\n",
    "test_dataset,test_labels=multivariate_data(x_test,y_test,0,1200,3,1,1,False)"
   ]
  },
  {
   "cell_type": "code",
   "execution_count": 6,
   "id": "8fc62b9d",
   "metadata": {},
   "outputs": [
    {
     "data": {
      "text/html": [
       "<style>#sk-container-id-2 {color: black;background-color: white;}#sk-container-id-2 pre{padding: 0;}#sk-container-id-2 div.sk-toggleable {background-color: white;}#sk-container-id-2 label.sk-toggleable__label {cursor: pointer;display: block;width: 100%;margin-bottom: 0;padding: 0.3em;box-sizing: border-box;text-align: center;}#sk-container-id-2 label.sk-toggleable__label-arrow:before {content: \"▸\";float: left;margin-right: 0.25em;color: #696969;}#sk-container-id-2 label.sk-toggleable__label-arrow:hover:before {color: black;}#sk-container-id-2 div.sk-estimator:hover label.sk-toggleable__label-arrow:before {color: black;}#sk-container-id-2 div.sk-toggleable__content {max-height: 0;max-width: 0;overflow: hidden;text-align: left;background-color: #f0f8ff;}#sk-container-id-2 div.sk-toggleable__content pre {margin: 0.2em;color: black;border-radius: 0.25em;background-color: #f0f8ff;}#sk-container-id-2 input.sk-toggleable__control:checked~div.sk-toggleable__content {max-height: 200px;max-width: 100%;overflow: auto;}#sk-container-id-2 input.sk-toggleable__control:checked~label.sk-toggleable__label-arrow:before {content: \"▾\";}#sk-container-id-2 div.sk-estimator input.sk-toggleable__control:checked~label.sk-toggleable__label {background-color: #d4ebff;}#sk-container-id-2 div.sk-label input.sk-toggleable__control:checked~label.sk-toggleable__label {background-color: #d4ebff;}#sk-container-id-2 input.sk-hidden--visually {border: 0;clip: rect(1px 1px 1px 1px);clip: rect(1px, 1px, 1px, 1px);height: 1px;margin: -1px;overflow: hidden;padding: 0;position: absolute;width: 1px;}#sk-container-id-2 div.sk-estimator {font-family: monospace;background-color: #f0f8ff;border: 1px dotted black;border-radius: 0.25em;box-sizing: border-box;margin-bottom: 0.5em;}#sk-container-id-2 div.sk-estimator:hover {background-color: #d4ebff;}#sk-container-id-2 div.sk-parallel-item::after {content: \"\";width: 100%;border-bottom: 1px solid gray;flex-grow: 1;}#sk-container-id-2 div.sk-label:hover label.sk-toggleable__label {background-color: #d4ebff;}#sk-container-id-2 div.sk-serial::before {content: \"\";position: absolute;border-left: 1px solid gray;box-sizing: border-box;top: 0;bottom: 0;left: 50%;z-index: 0;}#sk-container-id-2 div.sk-serial {display: flex;flex-direction: column;align-items: center;background-color: white;padding-right: 0.2em;padding-left: 0.2em;position: relative;}#sk-container-id-2 div.sk-item {position: relative;z-index: 1;}#sk-container-id-2 div.sk-parallel {display: flex;align-items: stretch;justify-content: center;background-color: white;position: relative;}#sk-container-id-2 div.sk-item::before, #sk-container-id-2 div.sk-parallel-item::before {content: \"\";position: absolute;border-left: 1px solid gray;box-sizing: border-box;top: 0;bottom: 0;left: 50%;z-index: -1;}#sk-container-id-2 div.sk-parallel-item {display: flex;flex-direction: column;z-index: 1;position: relative;background-color: white;}#sk-container-id-2 div.sk-parallel-item:first-child::after {align-self: flex-end;width: 50%;}#sk-container-id-2 div.sk-parallel-item:last-child::after {align-self: flex-start;width: 50%;}#sk-container-id-2 div.sk-parallel-item:only-child::after {width: 0;}#sk-container-id-2 div.sk-dashed-wrapped {border: 1px dashed gray;margin: 0 0.4em 0.5em 0.4em;box-sizing: border-box;padding-bottom: 0.4em;background-color: white;}#sk-container-id-2 div.sk-label label {font-family: monospace;font-weight: bold;display: inline-block;line-height: 1.2em;}#sk-container-id-2 div.sk-label-container {text-align: center;}#sk-container-id-2 div.sk-container {/* jupyter's `normalize.less` sets `[hidden] { display: none; }` but bootstrap.min.css set `[hidden] { display: none !important; }` so we also need the `!important` here to be able to override the default hidden behavior on the sphinx rendered scikit-learn.org. See: https://github.com/scikit-learn/scikit-learn/issues/21755 */display: inline-block !important;position: relative;}#sk-container-id-2 div.sk-text-repr-fallback {display: none;}</style><div id=\"sk-container-id-2\" class=\"sk-top-container\"><div class=\"sk-text-repr-fallback\"><pre>RandomForestRegressor(random_state=25)</pre><b>In a Jupyter environment, please rerun this cell to show the HTML representation or trust the notebook. <br />On GitHub, the HTML representation is unable to render, please try loading this page with nbviewer.org.</b></div><div class=\"sk-container\" hidden><div class=\"sk-item\"><div class=\"sk-estimator sk-toggleable\"><input class=\"sk-toggleable__control sk-hidden--visually\" id=\"sk-estimator-id-2\" type=\"checkbox\" checked><label for=\"sk-estimator-id-2\" class=\"sk-toggleable__label sk-toggleable__label-arrow\">RandomForestRegressor</label><div class=\"sk-toggleable__content\"><pre>RandomForestRegressor(random_state=25)</pre></div></div></div></div></div>"
      ],
      "text/plain": [
       "RandomForestRegressor(random_state=25)"
      ]
     },
     "execution_count": 6,
     "metadata": {},
     "output_type": "execute_result"
    }
   ],
   "source": [
    "from sklearn.ensemble import RandomForestRegressor\n",
    "\n",
    "\n",
    "train_dataset = train_dataset.reshape(train_dataset.shape[0], -1)\n",
    "test_dataset = test_dataset.reshape(test_dataset.shape[0], -1)\n",
    "\n",
    "\n",
    "rf_model = RandomForestRegressor(n_estimators=100, random_state=25)\n",
    "\n",
    "rf_model.fit(train_dataset, train_labels.ravel())\n"
   ]
  },
  {
   "cell_type": "code",
   "execution_count": null,
   "id": "1899081a",
   "metadata": {},
   "outputs": [],
   "source": [
    "\n",
    "test_preds = rf_model.predict(test_dataset)\n",
    "\n",
    "R2=r2_score(test_labels,test_preds)\n",
    "print('r2:',R2)\n",
    "MSE = metrics.mean_squared_error(test_labels,test_preds)\n",
    "print('MSE:',MSE)\n",
    "RMSE=np.sqrt(metrics.mean_squared_error(test_labels,test_preds))\n",
    "print('RMSE:',RMSE)\n",
    "MAE=metrics.mean_absolute_error(test_labels,test_preds)\n",
    "print('MAE:',MAE)\n",
    "def mape(test_labels,test_preds):\n",
    "    return np.mean(np.abs((test_preds-test_labels)/test_preds))              \n",
    "MAPE=mape(test_labels,test_preds)\n",
    "print('MAPE:',MAPE)\n"
   ]
  },
  {
   "cell_type": "code",
   "execution_count": null,
   "id": "6e26d043",
   "metadata": {
    "scrolled": true
   },
   "outputs": [],
   "source": [
    "\n",
    "train_predictions = rf_model.predict(train_dataset)\n",
    "test_predictions = rf_model.predict(test_dataset)\n",
    "\n",
    "train_labels = train_labels.reshape(-1, 1)\n",
    "train_predictions = train_predictions.reshape(-1, 1)\n",
    "test_labels = test_labels.reshape(-1, 1)\n",
    "test_predictions = test_predictions.reshape(-1, 1)\n",
    "\n",
    "train_predictions = scaler.inverse_transform(train_predictions)\n",
    "train_labels = scaler.inverse_transform(train_labels)\n",
    "test_predictions = scaler.inverse_transform(test_predictions)\n",
    "test_labels = scaler.inverse_transform(test_labels)\n",
    "\n",
    "from sklearn.metrics import mean_squared_error, mean_absolute_error, r2_score\n",
    "train_mse = mean_squared_error(train_labels, train_predictions)\n",
    "train_rmse=np.sqrt(metrics.mean_squared_error(train_labels, train_predictions))\n",
    "train_mae = mean_absolute_error(train_labels, train_predictions)\n",
    "train_r2 = r2_score(train_labels, train_predictions)\n",
    "def train_mape(train_labels, train_predictions):\n",
    "    return np.mean(np.abs((train_labels, train_predictions)/train_predictions))              \n",
    "train_mape =train_mape(train_labels, train_predictions)\n",
    "print('train_mse:',train_mse)\n",
    "print('train_rmse:',train_rmse)\n",
    "print('train_mae:',train_mae)\n",
    "print('train_mape:',train_mape)\n",
    "print('train_r2:',train_r2)\n",
    "test_mse = mean_squared_error(test_labels, test_predictions)\n",
    "test_rmse=np.sqrt(metrics.mean_squared_error(test_labels, test_predictions))\n",
    "test_mae = mean_absolute_error(test_labels, test_predictions)\n",
    "test_r2 = r2_score(test_labels, test_predictions)\n",
    "def test_mape(test_labels, test_predictions):\n",
    "    return np.mean(np.abs((test_labels, test_predictions)/test_predictions))              \n",
    "test_mape =test_mape(test_labels, test_predictions)\n",
    "print('test_mse:',test_mse)\n",
    "print('test_rmse:',test_rmse)\n",
    "print('test_mae:',test_mae)\n",
    "print('test_mape:',test_mape)\n",
    "print('test_r2:',test_r2)\n"
   ]
  },
  {
   "cell_type": "code",
   "execution_count": null,
   "id": "5c941b5d",
   "metadata": {},
   "outputs": [],
   "source": []
  }
 ],
 "metadata": {
  "kernelspec": {
   "display_name": "Python [conda env:.conda-tensorflow] *",
   "language": "python",
   "name": "conda-env-.conda-tensorflow-py"
  },
  "language_info": {
   "codemirror_mode": {
    "name": "ipython",
    "version": 3
   },
   "file_extension": ".py",
   "mimetype": "text/x-python",
   "name": "python",
   "nbconvert_exporter": "python",
   "pygments_lexer": "ipython3",
   "version": "3.8.16"
  }
 },
 "nbformat": 4,
 "nbformat_minor": 5
}
